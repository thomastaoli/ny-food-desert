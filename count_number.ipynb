{
 "cells": [
  {
   "cell_type": "code",
   "execution_count": 1,
   "metadata": {},
   "outputs": [],
   "source": [
    "import pandas as pd\n",
    "import geopandas as gpd\n",
    "from shapely.geometry import Point\n",
    "from shapely import wkt"
   ]
  },
  {
   "cell_type": "code",
   "execution_count": 2,
   "metadata": {},
   "outputs": [
    {
     "name": "stdout",
     "output_type": "stream",
     "text": [
      "                    street  zip_code                brand        LAT  \\\n",
      "0     2073 Broadway, 10023   10023.0  Trader Joe's & Aldi  40.778582   \n",
      "1       675 6th Ave, 10010   10010.0  Trader Joe's & Aldi  40.741878   \n",
      "2  436 East 14th St, 10009   10009.0  Trader Joe's & Aldi  40.730509   \n",
      "3   400 Grand St. (Cellar)   10002.0  Trader Joe's & Aldi  40.716159   \n",
      "4            200 E 32nd St   10016.0  Trader Joe's & Aldi  40.744028   \n",
      "\n",
      "         LON  \n",
      "0 -73.982257  \n",
      "1 -73.993834  \n",
      "2 -73.981099  \n",
      "3 -73.986726  \n",
      "4 -73.979059  \n"
     ]
    }
   ],
   "source": [
    "# Read ny_grocery.csv into a DataFrame: ny_grocery\n",
    "ny_grocery = pd.read_csv('ny_grocery.csv')\n",
    "\n",
    "# Print the head of ny_grocery\n",
    "print(ny_grocery.head())"
   ]
  },
  {
   "cell_type": "code",
   "execution_count": 3,
   "metadata": {},
   "outputs": [
    {
     "name": "stdout",
     "output_type": "stream",
     "text": [
      "                                            the_geom  BoroCode  BoroName  \\\n",
      "0  MULTIPOLYGON (((-73.93213397515774 40.72815960...         3  Brooklyn   \n",
      "1  MULTIPOLYGON (((-73.96176070350778 40.72522879...         3  Brooklyn   \n",
      "2  MULTIPOLYGON (((-73.95023693757913 40.70547324...         3  Brooklyn   \n",
      "3  MULTIPOLYGON (((-73.92405909736993 40.71411156...         3  Brooklyn   \n",
      "4  MULTIPOLYGON (((-73.9923636697722 40.689690123...         3  Brooklyn   \n",
      "\n",
      "   CountyFIPS NTA2020             NTAName  NTAAbbrev  NTAType CDTA2020  \\\n",
      "0          47  BK0101          Greenpoint      Grnpt        0     BK01   \n",
      "1          47  BK0102        Williamsburg   Wllmsbrg        0     BK01   \n",
      "2          47  BK0103  South Williamsburg  SWllmsbrg        0     BK01   \n",
      "3          47  BK0104   East Williamsburg  EWllmsbrg        0     BK01   \n",
      "4          47  BK0201    Brooklyn Heights      BkHts        0     BK02   \n",
      "\n",
      "                                            CDTAName    Shape_Leng  \\\n",
      "0     BK01 Williamsburg-Greenpoint (CD 1 Equivalent)  28912.566113   \n",
      "1     BK01 Williamsburg-Greenpoint (CD 1 Equivalent)  28098.027018   \n",
      "2     BK01 Williamsburg-Greenpoint (CD 1 Equivalent)  18250.280262   \n",
      "3     BK01 Williamsburg-Greenpoint (CD 1 Equivalent)  43184.772815   \n",
      "4  BK02 Downtown Brooklyn-Fort Greene (CD 2 Appro...  14312.504911   \n",
      "\n",
      "     Shape_Area  \n",
      "0  3.532121e+07  \n",
      "1  2.885431e+07  \n",
      "2  1.520896e+07  \n",
      "3  5.226621e+07  \n",
      "4  9.982322e+06  \n"
     ]
    }
   ],
   "source": [
    "# Read ny_grocery.csv into a DataFrame: ny_grocery\n",
    "n_df = pd.read_csv('2020_Neighborhood_Tabulation_Areas__NTAs__-_Tabular.csv')\n",
    "\n",
    "# Print the head of ny_grocery\n",
    "print(n_df.head())"
   ]
  },
  {
   "cell_type": "code",
   "execution_count": 4,
   "metadata": {},
   "outputs": [],
   "source": [
    "# Convert the 'the_geom' column in the neighborhoods dataframe from WKT to geometries\n",
    "n_df['the_geom'] = n_df['the_geom'].apply(wkt.loads)\n",
    "n_gdf = gpd.GeoDataFrame(n_df, geometry='the_geom')"
   ]
  },
  {
   "cell_type": "code",
   "execution_count": 5,
   "metadata": {},
   "outputs": [
    {
     "name": "stderr",
     "output_type": "stream",
     "text": [
      "/Users/thomaslee/.pyenv/versions/3.11.6/lib/python3.11/site-packages/IPython/core/interactiveshell.py:3493: FutureWarning: The `op` parameter is deprecated and will be removed in a future release. Please use the `predicate` parameter instead.\n",
      "  if await self.run_code(code, result, async_=asy):\n"
     ]
    }
   ],
   "source": [
    "# Create a GeoDataFrame for stores using the LAT and LON columns for geometry\n",
    "gdf = gpd.GeoDataFrame(ny_grocery, geometry=gpd.points_from_xy(ny_grocery.LON, ny_grocery.LAT))\n",
    "\n",
    "# Ensure both GeoDataFrames use the same CRS\n",
    "# It's common to use WGS84 (epsg:4326) for geographic coordinates\n",
    "n_gdf.crs = \"EPSG:4326\"\n",
    "gdf.crs = \"EPSG:4326\"\n",
    "\n",
    "# Perform spatial join: this assigns each store to a neighborhood\n",
    "joined = gpd.sjoin(gdf, n_gdf, how=\"inner\", op=\"within\")"
   ]
  },
  {
   "cell_type": "code",
   "execution_count": 6,
   "metadata": {},
   "outputs": [
    {
     "name": "stdout",
     "output_type": "stream",
     "text": [
      "                                          NTAName  StoreCount\n",
      "0              University Heights (North)-Fordham           9\n",
      "1                                    Forest Hills           8\n",
      "2    Carroll Gardens-Cobble Hill-Gowanus-Red Hook           8\n",
      "3                                        Flatbush           7\n",
      "4              Claremont Village-Claremont (East)           7\n",
      "..                                            ...         ...\n",
      "162                           South Richmond Hill           1\n",
      "163                  Oakland Gardens-Hollis Hills           1\n",
      "164                                       Midwood           1\n",
      "165                                     Bellerose           1\n",
      "166                        New Dorp-Midland Beach           1\n",
      "\n",
      "[167 rows x 2 columns]\n"
     ]
    }
   ],
   "source": [
    "# Count the number of stores in each neighborhood\n",
    "store_counts = joined['NTAName'].value_counts()\n",
    "\n",
    "# Convert the counts to a DataFrame\n",
    "store_counts_df = store_counts.reset_index()\n",
    "store_counts_df.columns = ['NTAName', 'StoreCount']\n",
    "\n",
    "print(store_counts_df)"
   ]
  },
  {
   "cell_type": "code",
   "execution_count": 7,
   "metadata": {},
   "outputs": [],
   "source": [
    "#Save the store_counts_df to a csv file\n",
    "store_counts_df.to_csv('store_counts.csv', index=False)"
   ]
  }
 ],
 "metadata": {
  "kernelspec": {
   "display_name": "Python 3",
   "language": "python",
   "name": "python3"
  },
  "language_info": {
   "codemirror_mode": {
    "name": "ipython",
    "version": 3
   },
   "file_extension": ".py",
   "mimetype": "text/x-python",
   "name": "python",
   "nbconvert_exporter": "python",
   "pygments_lexer": "ipython3",
   "version": "3.11.6"
  }
 },
 "nbformat": 4,
 "nbformat_minor": 2
}
